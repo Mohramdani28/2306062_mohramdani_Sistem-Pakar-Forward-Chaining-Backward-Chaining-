{
  "nbformat": 4,
  "nbformat_minor": 0,
  "metadata": {
    "colab": {
      "provenance": [],
      "authorship_tag": "ABX9TyOYY4qz5pE4/GHXYgv6WpQ2",
      "include_colab_link": true
    },
    "kernelspec": {
      "name": "python3",
      "display_name": "Python 3"
    },
    "language_info": {
      "name": "python"
    }
  },
  "cells": [
    {
      "cell_type": "markdown",
      "metadata": {
        "id": "view-in-github",
        "colab_type": "text"
      },
      "source": [
        "<a href=\"https://colab.research.google.com/github/Mohramdani28/2306062_mohramdani_Sistem-Pakar-Forward-Chaining-Backward-Chaining-/blob/main/SISTEM_PAKAR.ipynb\" target=\"_parent\"><img src=\"https://colab.research.google.com/assets/colab-badge.svg\" alt=\"Open In Colab\"/></a>"
      ]
    },
    {
      "cell_type": "code",
      "execution_count": 6,
      "metadata": {
        "colab": {
          "base_uri": "https://localhost:8080/"
        },
        "id": "VeLO6dXM5TjP",
        "outputId": "e203dc7f-0a7a-4469-f551-43e276c412c1"
      },
      "outputs": [
        {
          "output_type": "stream",
          "name": "stdout",
          "text": [
            "Requirement already satisfied: experta in /usr/local/lib/python3.11/dist-packages (1.9.4)\n",
            "Requirement already satisfied: frozendict==1.2 in /usr/local/lib/python3.11/dist-packages (from experta) (1.2)\n",
            "Requirement already satisfied: schema==0.6.7 in /usr/local/lib/python3.11/dist-packages (from experta) (0.6.7)\n"
          ]
        }
      ],
      "source": [
        "!pip install experta"
      ]
    },
    {
      "cell_type": "code",
      "source": [
        "!pip install --upgrade frozendict"
      ],
      "metadata": {
        "colab": {
          "base_uri": "https://localhost:8080/"
        },
        "id": "CsLLTTbp5l97",
        "outputId": "9500aef6-2eaf-4b56-b8ac-01a61ddc8e4c"
      },
      "execution_count": 7,
      "outputs": [
        {
          "output_type": "stream",
          "name": "stdout",
          "text": [
            "Requirement already satisfied: frozendict in /usr/local/lib/python3.11/dist-packages (1.2)\n",
            "Collecting frozendict\n",
            "  Using cached frozendict-2.4.6-py311-none-any.whl.metadata (23 kB)\n",
            "Using cached frozendict-2.4.6-py311-none-any.whl (16 kB)\n",
            "Installing collected packages: frozendict\n",
            "  Attempting uninstall: frozendict\n",
            "    Found existing installation: frozendict 1.2\n",
            "    Uninstalling frozendict-1.2:\n",
            "      Successfully uninstalled frozendict-1.2\n",
            "\u001b[31mERROR: pip's dependency resolver does not currently take into account all the packages that are installed. This behaviour is the source of the following dependency conflicts.\n",
            "experta 1.9.4 requires frozendict==1.2, but you have frozendict 2.4.6 which is incompatible.\u001b[0m\u001b[31m\n",
            "\u001b[0mSuccessfully installed frozendict-2.4.6\n"
          ]
        }
      ]
    },
    {
      "cell_type": "code",
      "source": [
        "from experta import *\n",
        "\n",
        "class diagnosis(KnowledgeEngine):\n",
        "\n",
        "    @Rule(Fact(cought=True) & Fact(fever=True) & Fact(fatigue=True))\n",
        "    def flu(self):\n",
        "        print(\"diagnosis: you may have the flu.\")\n",
        "\n",
        "    @Rule(Fact(cought=True) & Fact(fever=True) & Fact(fatigue=True) & Fact(breathing_difficulty=True))\n",
        "    def pneumonia(self):\n",
        "        print(\"diagnosis: you may have pneumonia.\")\n",
        "\n",
        "    @Rule(Fact(sneezing=True) & Fact(runny_nose=True) & Fact(cought=False))\n",
        "    def cold(self):\n",
        "        print(\"diagnosis: you may have a cold.\")\n",
        "\n",
        "    @Rule(Fact(sore_throat=False) & Fact(fever=True))\n",
        "    def throat(self):\n",
        "        print(\"diagnosis: you may have throat infection.\")\n",
        "\n",
        "    @Rule(Fact(cought=False) & Fact(fever=False) & Fact(fatigue=False))\n",
        "    def healthy(self):\n",
        "        print(\"diagnosis: you may be healthy.\")\n",
        "\n",
        "    @Rule(Fact(cought=True) & Fact(fever=True) & Fact(fatigue=True) & Fact(loss_of_taste=True))\n",
        "    def covid(self):\n",
        "        print(\"diagnosis: you may have COVID-19.\")\n",
        "\n",
        "    @Rule(Fact(cought=True) & Fact(breathing_difficulty=True) & Fact(wheezing=True))\n",
        "    def asthma(self):\n",
        "        print(\"diagnosis: you may have asthma.\")\n",
        "\n",
        "    @Rule(Fact(sneezing=True) & Fact(runny_nose=True) & Fact(itchy_eyes=True))\n",
        "    def allergy(self):\n",
        "        print(\"diagnosis: you may have an allergy.\")\n",
        "\n",
        "    @Rule(Fact(cought=True) & Fact(chest_discomfort=True) & Fact(fatigue=True))\n",
        "    def bronchitis(self):\n",
        "        print(\"diagnosis: you may have bronchitis.\")\n",
        "\n",
        "\n",
        "def get_input():\n",
        "    \"\"\"helper function to get user input as boolean (yes/no).\"\"\"\n",
        "\n",
        "    def ask_question(question):\n",
        "        return input(question + \" (yes/no): \").strip().lower() == \"yes\"\n",
        "\n",
        "    return {\n",
        "        \"cought\": ask_question(\"Do you have a cough\"),\n",
        "        \"fever\": ask_question(\"Do you have a fever\"),\n",
        "        \"fatigue\": ask_question(\"Do you feel fatigue\"),\n",
        "        \"breathing_difficulty\": ask_question(\"Do you have breathing difficulty\"),\n",
        "        \"sneezing\": ask_question(\"Do you sneeze often\"),\n",
        "        \"runny_nose\": ask_question(\"Do you have a runny nose\"),\n",
        "        \"sore_throat\": ask_question(\"Do you have a sore throat\"),\n",
        "        \"loss_of_taste\": ask_question(\"Have you lost your sense of taste or smell\"),\n",
        "        \"wheezing\": ask_question(\"Do you experience wheezing\"),\n",
        "        \"itchy_eyes\": ask_question(\"Do you have itchy eyes\"),\n",
        "        \"chest_discomfort\": ask_question(\"Do you feel chest discomfort\"),\n",
        "    }\n",
        "\n",
        "\n",
        "if __name__ == \"__main__\":\n",
        "    symptoms = get_input()\n",
        "    engine = diagnosis()\n",
        "    engine.reset()\n",
        "\n",
        "    for symptom, present in symptoms.items():\n",
        "        engine.declare(Fact(**{symptom: present}))\n",
        "    engine.run()"
      ],
      "metadata": {
        "colab": {
          "base_uri": "https://localhost:8080/"
        },
        "id": "Z9XaNXdjAU8F",
        "outputId": "09f5cdee-cd76-439e-ce43-72b34f8d1fc6"
      },
      "execution_count": 8,
      "outputs": [
        {
          "output_type": "stream",
          "name": "stdout",
          "text": [
            "Do you have a cough (yes/no): yes\n",
            "Do you have a fever (yes/no): yes\n",
            "Do you feel fatigue (yes/no): yes\n",
            "Do you have breathing difficulty (yes/no): no\n",
            "Do you sneeze often (yes/no): no\n",
            "Do you have a runny nose (yes/no): no\n",
            "Do you have a sore throat (yes/no): no\n",
            "Have you lost your sense of taste or smell (yes/no): yes\n",
            "Do you experience wheezing (yes/no): no\n",
            "Do you have itchy eyes (yes/no): no\n",
            "Do you feel chest discomfort (yes/no): no\n",
            "diagnosis: you may have COVID-19.\n",
            "diagnosis: you may have throat infection.\n",
            "diagnosis: you may have the flu.\n"
          ]
        }
      ]
    },
    {
      "cell_type": "code",
      "source": [
        "from experta import *\n",
        "\n",
        "class SistemPakarMedis(KnowledgeEngine):\n",
        "\n",
        "    @Rule(Fact(demam=True) & Fact(batuk=True))\n",
        "    def flu(self):\n",
        "        print(\"Diagnosis: Anda menderita flu.\")\n",
        "    @Rule(Fact(sakit_tenggorakan=True) & Fact(demam=True))\n",
        "    def throat_infection(self):\n",
        "        print(\"Diagnosis : Radang Tenggorokan\")\n",
        "\n",
        "#Running The Expert System\n",
        "engine = SistemPakarMedis()\n",
        "engine.reset()\n",
        "engine.declare(Fact(demam=True))\n",
        "engine.declare(Fact(sakit_tenggorokan=True))\n",
        "engine.run()"
      ],
      "metadata": {
        "id": "OkQAprRRDg3G"
      },
      "execution_count": null,
      "outputs": []
    },
    {
      "cell_type": "code",
      "source": [
        "from experta import *\n",
        "class SistemPakarMedis(KnowledgeEngine):\n",
        "  @Rule(Fact(demam=True) & Fact(batuk=True))\n",
        "  def flu(self):\n",
        "    print(\"Diagnosis: flu.\")\n",
        "  @Rule(Fact(sakit_tenggorokan=True) & Fact(demam=True))\n",
        "  def throat_infection(self):\n",
        "    print(\"Diagnosis: Radang Tenggorokan.\")\n",
        "# Running the expert system\n",
        "engine = SistemPakarMedis()\n",
        "engine.reset()\n",
        "engine.declare(Fact(demam=True))\n",
        "engine.declare(Fact(sakit_tenggorokan=True))\n",
        "engine.run()"
      ],
      "metadata": {
        "colab": {
          "base_uri": "https://localhost:8080/"
        },
        "id": "JTVskKLQGvj7",
        "outputId": "1b939e1e-068c-44c0-ec2c-df83dac56c8d"
      },
      "execution_count": null,
      "outputs": [
        {
          "output_type": "stream",
          "name": "stdout",
          "text": [
            "Diagnosis: Radang Tenggorokan.\n"
          ]
        }
      ]
    },
    {
      "cell_type": "code",
      "source": [
        "def forward_chaining(facts, rules):\n",
        "    inferred = set(facts)\n",
        "    changed = True\n",
        "\n",
        "    while changed:\n",
        "        changed = False\n",
        "        for rule in rules:\n",
        "            if rule[\"if\"].issubset(inferred) and rule[\"then\"] not in inferred:\n",
        "                inferred.add(rule[\"then\"])\n",
        "                changed = True\n",
        "    return inferred\n",
        "\n",
        "\n",
        "facts = {\"has_feathers\", \"has_beak\", \"carnivore\"}\n",
        "rules = [\n",
        "    {\"if\": {\"has_feathers\", \"has_beak\"}, \"then\": \"is_bird\"},\n",
        "    {\"if\": {\"lays_eggs\", \"is_bird\"}, \"then\": \"is_chicken\"},\n",
        "    {\"if\": {\"cannot_fly\", \"is_bird\"}, \"then\": \"is_penguin\"},\n",
        "    {\"if\": {\"carnivore\", \"is_bird\"}, \"then\": \"is_eagle\"}\n",
        "]\n",
        "\n",
        "result = forward_chaining(facts, rules)\n",
        "print(\"Inferred facts:\", result)"
      ],
      "metadata": {
        "colab": {
          "base_uri": "https://localhost:8080/"
        },
        "id": "FAzhaAlyH2JL",
        "outputId": "e190c6b2-5ff4-4422-aec2-97737bc1996f"
      },
      "execution_count": null,
      "outputs": [
        {
          "output_type": "stream",
          "name": "stdout",
          "text": [
            "Inferred facts: {'has_feathers', 'is_bird', 'has_beak', 'is_eagle', 'carnivore'}\n"
          ]
        }
      ]
    },
    {
      "cell_type": "code",
      "source": [
        "def backward_chaining(goal, facts, rules):\n",
        "    if goal in facts:\n",
        "        return True\n",
        "    for rule in rules:\n",
        "        if rule[\"then\"] == goal:\n",
        "            if all(backward_chaining(cond, facts, rules) for cond in rule[\"if\"]):\n",
        "                return True\n",
        "    return False\n",
        "\n",
        "\n",
        "facts = {\"likes_computers\", \"solves_problems\",\"likes_programming\"}\n",
        "rules = [\n",
        "    {\"if\": {\"likes_computers\", \"solves_problems\"}, \"then\": \"should_be_engineer\"},\n",
        "    {\"if\": {\"should_be_engineer\", \"likes_programming\"}, \"then\": \"software_engineer\"}\n",
        "]\n",
        "\n",
        "goal = \"software_engineer\"\n",
        "result = backward_chaining(goal, facts, rules)\n",
        "print(f\"Is '{goal}' provable? ->\", result)"
      ],
      "metadata": {
        "colab": {
          "base_uri": "https://localhost:8080/"
        },
        "id": "0ZHxkM56NLGq",
        "outputId": "73f1e3e6-2aa8-42b6-c5c3-52295df1ea37"
      },
      "execution_count": null,
      "outputs": [
        {
          "output_type": "stream",
          "name": "stdout",
          "text": [
            "Is 'software_engineer' provable? -> True\n"
          ]
        }
      ]
    },
    {
      "cell_type": "code",
      "source": [
        "def forward_chaining(facts, rules):\n",
        "    inferred = set(facts)\n",
        "    changed = True\n",
        "\n",
        "    while changed:\n",
        "        changed = False\n",
        "        for rule in rules:\n",
        "            if rule[\"if\"].issubset(inferred) and rule[\"then\"] not in inferred:\n",
        "                inferred.add(rule[\"then\"])\n",
        "                changed = True\n",
        "    return inferred\n",
        "\n",
        "\n",
        "facts = {\"has_wheels\",\"has_engine\",\"has_four_wheels\"}\n",
        "rules = [\n",
        "    {\"if\": {\"has_wheels\", \"has_engine\"}, \"then\": \"is_vehicle\"},\n",
        "    {\"if\":{\"is_vehicle\",\"has_two_wheels\"}, \"then\": \"is_motorcycle\"},\n",
        "    {\"if\":{\"is_vehicle\",\"has_four_wheels\"}, \"then\": \"is_car\"}\n",
        "]\n",
        "result = forward_chaining(facts, rules)\n",
        "print(\"Inferred facts:\", result)"
      ],
      "metadata": {
        "colab": {
          "base_uri": "https://localhost:8080/"
        },
        "id": "l4SneQIfQjKY",
        "outputId": "c7ea8948-aded-4a89-955e-53e652753984"
      },
      "execution_count": null,
      "outputs": [
        {
          "output_type": "stream",
          "name": "stdout",
          "text": [
            "Inferred facts: {'has_wheels', 'is_vehicle', 'is_car', 'has_four_wheels', 'has_engine'}\n"
          ]
        }
      ]
    },
    {
      "cell_type": "code",
      "source": [
        " def backward_chaining(goal, facts, rules):\n",
        "    if goal in facts:\n",
        "        return True\n",
        "    for rule in rules:\n",
        "        if rule[\"then\"] == goal:\n",
        "            if all(backward_chaining(cond, facts, rules) for cond in rule[\"if\"]):\n",
        "                return True\n",
        "    return False\n",
        "\n",
        "# Fakta-fakta awal\n",
        "facts = {\"has_feathers\", \"has_small_wings\"}\n",
        "\n",
        "# Aturan-aturan\n",
        "rules = [\n",
        "    {\"if\": {\"is_bird\", \"cannot_fly\"}, \"then\": \"is_penguin\"},\n",
        "    {\"if\": {\"has_feathers\"}, \"then\": \"is_bird\"},\n",
        "    {\"if\": {\"has_small_wings\"}, \"then\": \"cannot_fly\"}\n",
        "]\n",
        "\n",
        "# Tujuan yang ingin dibuktikan\n",
        "goal = \"is_penguin\"\n",
        "\n",
        "# Proses backward chaining\n",
        "result = backward_chaining(goal, facts, rules)\n",
        "print(f\"Is '{goal}' provable? ->\", result)"
      ],
      "metadata": {
        "colab": {
          "base_uri": "https://localhost:8080/"
        },
        "id": "BZs-6DqzUAlO",
        "outputId": "e03151cc-af03-4224-991f-213a4f70ce00"
      },
      "execution_count": null,
      "outputs": [
        {
          "output_type": "stream",
          "name": "stdout",
          "text": [
            "Is 'is_penguin' provable? -> True\n"
          ]
        }
      ]
    }
  ]
}
